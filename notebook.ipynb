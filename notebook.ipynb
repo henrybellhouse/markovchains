{
 "cells": [
  {
   "cell_type": "code",
   "execution_count": 1,
   "id": "f0611ed0",
   "metadata": {},
   "outputs": [],
   "source": [
    "import numpy as np\n",
    "import pandas as pd\n",
    "import matplotlib.pyplot as plt\n",
    "\n",
    "pd.options.mode.chained_assignment = None\n",
    "from collections import defaultdict\n",
    "import os"
   ]
  },
  {
   "cell_type": "code",
   "execution_count": 2,
   "id": "e7570509",
   "metadata": {},
   "outputs": [
    {
     "data": {
      "text/html": [
       "<div>\n",
       "<style scoped>\n",
       "    .dataframe tbody tr th:only-of-type {\n",
       "        vertical-align: middle;\n",
       "    }\n",
       "\n",
       "    .dataframe tbody tr th {\n",
       "        vertical-align: top;\n",
       "    }\n",
       "\n",
       "    .dataframe thead th {\n",
       "        text-align: right;\n",
       "    }\n",
       "</style>\n",
       "<table border=\"1\" class=\"dataframe\">\n",
       "  <thead>\n",
       "    <tr style=\"text-align: right;\">\n",
       "      <th></th>\n",
       "      <th>cookie</th>\n",
       "      <th>time</th>\n",
       "      <th>interaction</th>\n",
       "      <th>conversion</th>\n",
       "      <th>conversion_value</th>\n",
       "      <th>channel</th>\n",
       "      <th>order</th>\n",
       "    </tr>\n",
       "  </thead>\n",
       "  <tbody>\n",
       "    <tr>\n",
       "      <th>586736</th>\n",
       "      <td>ooooohAFofEnonEikhAi3fF9o</td>\n",
       "      <td>2018-07-14 17:17:12+00:00</td>\n",
       "      <td>impression</td>\n",
       "      <td>0</td>\n",
       "      <td>0.0</td>\n",
       "      <td>Paid Search</td>\n",
       "      <td>1</td>\n",
       "    </tr>\n",
       "    <tr>\n",
       "      <th>586734</th>\n",
       "      <td>ooooiBh70D3k3BfAhDFfii9h7</td>\n",
       "      <td>2018-07-03 12:57:25+00:00</td>\n",
       "      <td>impression</td>\n",
       "      <td>0</td>\n",
       "      <td>0.0</td>\n",
       "      <td>Paid Search</td>\n",
       "      <td>1</td>\n",
       "    </tr>\n",
       "    <tr>\n",
       "      <th>586735</th>\n",
       "      <td>ooooiBh70D3k3BfAhDFfii9h7</td>\n",
       "      <td>2018-07-19 08:17:59+00:00</td>\n",
       "      <td>impression</td>\n",
       "      <td>0</td>\n",
       "      <td>0.0</td>\n",
       "      <td>Online Video</td>\n",
       "      <td>2</td>\n",
       "    </tr>\n",
       "    <tr>\n",
       "      <th>586731</th>\n",
       "      <td>ooooEiB0CCoEf9fiiC90Dfhfk</td>\n",
       "      <td>2018-07-06 23:30:38+00:00</td>\n",
       "      <td>impression</td>\n",
       "      <td>0</td>\n",
       "      <td>0.0</td>\n",
       "      <td>Online Display</td>\n",
       "      <td>1</td>\n",
       "    </tr>\n",
       "    <tr>\n",
       "      <th>586732</th>\n",
       "      <td>ooooEiB0CCoEf9fiiC90Dfhfk</td>\n",
       "      <td>2018-07-12 23:50:45+00:00</td>\n",
       "      <td>impression</td>\n",
       "      <td>0</td>\n",
       "      <td>0.0</td>\n",
       "      <td>Online Display</td>\n",
       "      <td>2</td>\n",
       "    </tr>\n",
       "  </tbody>\n",
       "</table>\n",
       "</div>"
      ],
      "text/plain": [
       "                           cookie                      time interaction  \\\n",
       "586736  ooooohAFofEnonEikhAi3fF9o 2018-07-14 17:17:12+00:00  impression   \n",
       "586734  ooooiBh70D3k3BfAhDFfii9h7 2018-07-03 12:57:25+00:00  impression   \n",
       "586735  ooooiBh70D3k3BfAhDFfii9h7 2018-07-19 08:17:59+00:00  impression   \n",
       "586731  ooooEiB0CCoEf9fiiC90Dfhfk 2018-07-06 23:30:38+00:00  impression   \n",
       "586732  ooooEiB0CCoEf9fiiC90Dfhfk 2018-07-12 23:50:45+00:00  impression   \n",
       "\n",
       "        conversion  conversion_value         channel  order  \n",
       "586736           0               0.0     Paid Search      1  \n",
       "586734           0               0.0     Paid Search      1  \n",
       "586735           0               0.0    Online Video      2  \n",
       "586731           0               0.0  Online Display      1  \n",
       "586732           0               0.0  Online Display      2  "
      ]
     },
     "execution_count": 2,
     "metadata": {},
     "output_type": "execute_result"
    }
   ],
   "source": [
    "df = pd.read_csv(open(os.path.expanduser(\"~/documents/data/attribution.csv\")))\n",
    "df['time'] = pd.to_datetime(df['time'])\n",
    "df = df.sort_values(['cookie', 'time'],\n",
    "                    ascending=[False, True])\n",
    "df['order'] = df.groupby('cookie').cumcount() + 1\n",
    "df.head()"
   ]
  },
  {
   "cell_type": "code",
   "execution_count": 3,
   "id": "392658f6",
   "metadata": {},
   "outputs": [],
   "source": [
    "# For ease of future analysis, I will be changing the DataFrame from wide-form (multiple rows for one Cookie) to long-form"
   ]
  },
  {
   "cell_type": "code",
   "execution_count": 4,
   "id": "ab7fe2cc",
   "metadata": {},
   "outputs": [
    {
     "data": {
      "text/html": [
       "<div>\n",
       "<style scoped>\n",
       "    .dataframe tbody tr th:only-of-type {\n",
       "        vertical-align: middle;\n",
       "    }\n",
       "\n",
       "    .dataframe tbody tr th {\n",
       "        vertical-align: top;\n",
       "    }\n",
       "\n",
       "    .dataframe thead th {\n",
       "        text-align: right;\n",
       "    }\n",
       "</style>\n",
       "<table border=\"1\" class=\"dataframe\">\n",
       "  <thead>\n",
       "    <tr style=\"text-align: right;\">\n",
       "      <th></th>\n",
       "      <th>cookie</th>\n",
       "      <th>path</th>\n",
       "    </tr>\n",
       "  </thead>\n",
       "  <tbody>\n",
       "    <tr>\n",
       "      <th>0</th>\n",
       "      <td>00000FkCnDfDDf0iC97iC703B</td>\n",
       "      <td>[Start, Instagram, Online Display, Null]</td>\n",
       "    </tr>\n",
       "    <tr>\n",
       "      <th>1</th>\n",
       "      <td>0000nACkD9nFkBBDECD3ki00E</td>\n",
       "      <td>[Start, Paid Search, Null]</td>\n",
       "    </tr>\n",
       "    <tr>\n",
       "      <th>2</th>\n",
       "      <td>0003EfE37E93D0BC03iBhBBhF</td>\n",
       "      <td>[Start, Paid Search, Null]</td>\n",
       "    </tr>\n",
       "    <tr>\n",
       "      <th>3</th>\n",
       "      <td>00073CFE3FoFCn70fBhB3kfon</td>\n",
       "      <td>[Start, Instagram, Null]</td>\n",
       "    </tr>\n",
       "    <tr>\n",
       "      <th>4</th>\n",
       "      <td>00079hhBkDF3k3kDkiFi9EFAD</td>\n",
       "      <td>[Start, Paid Search, Null]</td>\n",
       "    </tr>\n",
       "  </tbody>\n",
       "</table>\n",
       "</div>"
      ],
      "text/plain": [
       "                      cookie                                      path\n",
       "0  00000FkCnDfDDf0iC97iC703B  [Start, Instagram, Online Display, Null]\n",
       "1  0000nACkD9nFkBBDECD3ki00E                [Start, Paid Search, Null]\n",
       "2  0003EfE37E93D0BC03iBhBBhF                [Start, Paid Search, Null]\n",
       "3  00073CFE3FoFCn70fBhB3kfon                  [Start, Instagram, Null]\n",
       "4  00079hhBkDF3k3kDkiFi9EFAD                [Start, Paid Search, Null]"
      ]
     },
     "execution_count": 4,
     "metadata": {},
     "output_type": "execute_result"
    }
   ],
   "source": [
    "df_paths = df.groupby('cookie')['channel'].aggregate(\n",
    "    lambda x: x.unique().tolist()).reset_index()\n",
    "\n",
    "df_last_interaction = df.drop_duplicates('cookie', keep='last')[['cookie', 'conversion']]\n",
    "df_paths = pd.merge(df_paths, df_last_interaction, how='left', on='cookie')\n",
    "\n",
    "df_paths['path'] = np.where(df_paths['conversion'] == 0,\n",
    "                ['Start, '] + df_paths['channel'].apply(', '.join) + [', Null'],\n",
    "                ['Start, '] + df_paths['channel'].apply(', '.join) + [', Conversion'])\n",
    "\n",
    "\n",
    "df_paths['path'] = df_paths['path'].str.split(', ')\n",
    "\n",
    "df_paths = df_paths[['cookie', 'path']]\n",
    "df_paths.head()"
   ]
  },
  {
   "cell_type": "code",
   "execution_count": 5,
   "id": "e5f561b8",
   "metadata": {},
   "outputs": [],
   "source": [
    "# The output gives a single Cookie (unique customer ID) and their path, from first to last touchpoint"
   ]
  },
  {
   "cell_type": "code",
   "execution_count": 6,
   "id": "d085c90f",
   "metadata": {},
   "outputs": [],
   "source": [
    "# Using 'np.where' lets us specify that a non-converted customer will have their journey end in 'Null'"
   ]
  },
  {
   "cell_type": "code",
   "execution_count": 7,
   "id": "0ccbf4d4",
   "metadata": {},
   "outputs": [],
   "source": [
    "paths_list = df_paths['path']\n",
    "\n",
    "def transition(paths_list):\n",
    "    unique_channel_list = set(x for element in paths_list for x in element)\n",
    "    transition = {x + '>' + y: 0 for x in unique_channel_list for y in unique_channel_list}\n",
    "\n",
    "    for possible_state in unique_channel_list:\n",
    "        if possible_state not in ['Conversion', 'Null']:\n",
    "            for user_path in paths_list:\n",
    "                if possible_state in user_path:\n",
    "                    indices = [i for i, s in enumerate(user_path) if possible_state in s]\n",
    "                    for col in indices:\n",
    "                        transition[user_path[col] + '>' + user_path[col + 1]] += 1\n",
    "\n",
    "    return transition\n",
    "\n",
    "transition_list = transition(paths_list)"
   ]
  },
  {
   "cell_type": "code",
   "execution_count": 8,
   "id": "7245ac4e",
   "metadata": {},
   "outputs": [],
   "source": [
    "# Next, I form a Probabilistic Model for Transitions"
   ]
  },
  {
   "cell_type": "code",
   "execution_count": 9,
   "id": "879a016d",
   "metadata": {},
   "outputs": [],
   "source": [
    "def p_transition(transition_dict):\n",
    "    unique_channel_list = set(x for element in paths_list for x in element)\n",
    "    p_transition = defaultdict(dict)\n",
    "    for state in unique_channel_list:\n",
    "        if state not in ['Conversion', 'Null']:\n",
    "            counter = 0\n",
    "            index = [i for i, s in enumerate(transition_dict) if state + '>' in s]\n",
    "            for col in index:\n",
    "                if transition_dict[list(transition_dict)[col]] > 0:\n",
    "                    counter += transition_dict[list(transition_dict)[col]]\n",
    "            for col in index:\n",
    "                if transition_dict[list(transition_dict)[col]] > 0:\n",
    "                    state_prob = float((transition_dict[list(transition_dict)[col]])) / float(counter)\n",
    "                    p_transition[list(transition_dict)[col]] = state_prob\n",
    "\n",
    "    return p_transition\n",
    "\n",
    "p_transition = p_transition(transition_list)"
   ]
  },
  {
   "cell_type": "code",
   "execution_count": 10,
   "id": "3f92b912",
   "metadata": {},
   "outputs": [],
   "source": [
    "# Matrix Transformation of Probability Model\n",
    "\n",
    "def matrix(paths_list, transition_probabilities):\n",
    "    matrix = pd.DataFrame()\n",
    "    unique_channel_list = set(x for element in paths_list for x in element)\n",
    "\n",
    "    for channel in unique_channel_list:\n",
    "        matrix[channel] = 0.00\n",
    "        matrix.loc[channel] = 0.00\n",
    "        matrix.loc[channel][channel] = 1.0 if channel in ['Conversion', 'Null'] else 0.0\n",
    "\n",
    "    for key, value in transition_probabilities.items():\n",
    "        origin, destination = key.split('>')\n",
    "        matrix.at[origin, destination] = value\n",
    "\n",
    "    return matrix\n",
    "\n",
    "matrix = matrix(paths_list, p_transition)\n"
   ]
  },
  {
   "cell_type": "code",
   "execution_count": 11,
   "id": "4e18d0a5",
   "metadata": {},
   "outputs": [],
   "source": [
    "conversion_total = sum(path.count('Conversion') for path in df_paths['path'].tolist())\n",
    "conversion_rate = conversion_total / len(paths_list)\n",
    "\n",
    "def removal_effects(df, conversion_rate):\n",
    "    removal_effects_dict = {}\n",
    "    channels = [channel for channel in df.columns if channel not in ['Start',\n",
    "                                                                     'Null',\n",
    "                                                                     'Conversion']]\n",
    "    for channel in channels:\n",
    "        removals = df.drop(channel, axis=1).drop(channel, axis=0)\n",
    "        for column in removals.columns:\n",
    "            row_sum = np.sum(list(removals.loc[column]))\n",
    "            null_pct = float(1) - row_sum\n",
    "            if null_pct != 0:\n",
    "                removals.loc[column]['Null'] = null_pct\n",
    "            removals.loc['Null']['Null'] = 1.0\n",
    "\n",
    "        conversion_removals = removals[\n",
    "            ['Null', 'Conversion']].drop(['Null', 'Conversion'], axis=0)\n",
    "        non_conversion_removals = removals.drop(\n",
    "            ['Null', 'Conversion'], axis=1).drop(['Null', 'Conversion'], axis=0)\n",
    "\n",
    "        removal_inv_diff = np.linalg.inv(\n",
    "            np.identity(\n",
    "                len(non_conversion_removals)) - np.asarray(non_conversion_removals))\n",
    "        removal_dot_prod = np.dot(removal_inv_diff, np.asarray(conversion_removals))\n",
    "        removal_cvr = pd.DataFrame(removal_dot_prod,\n",
    "                                   index=conversion_removals.index)[[1]].loc['Start'].values[0]\n",
    "        removal_effect = 1 - removal_cvr / conversion_rate\n",
    "        removal_effects_dict[channel] = removal_effect\n",
    "\n",
    "    return removal_effects_dict\n",
    "\n",
    "removal_effects_dict = removal_effects(matrix, conversion_rate)"
   ]
  },
  {
   "cell_type": "code",
   "execution_count": 12,
   "id": "7f85663d",
   "metadata": {},
   "outputs": [
    {
     "name": "stdout",
     "output_type": "stream",
     "text": [
      "{'Online Display': 2153.2469267590836, 'Instagram': 3031.521548555893, 'Facebook': 4948.892177847523, 'Online Video': 2886.4480895461456, 'Paid Search': 4618.891257291356}\n"
     ]
    }
   ],
   "source": [
    "def markov_chain_allocations(removal_effects, conversion_total):\n",
    "    re_sum = np.sum(list(removal_effects.values()))\n",
    "\n",
    "    return {k: (v / re_sum) * conversion_total for k, v in removal_effects.items()}\n",
    "\n",
    "attribution = markov_chain_allocations(removal_effects_dict, conversion_total)\n",
    "\n",
    "print(attribution)"
   ]
  },
  {
   "cell_type": "code",
   "execution_count": 14,
   "id": "c67aecd3",
   "metadata": {},
   "outputs": [
    {
     "name": "stdout",
     "output_type": "stream",
     "text": [
      "Online Display    2153.246927\n",
      "Online Video      2886.448090\n",
      "Instagram         3031.521549\n",
      "Paid Search       4618.891257\n",
      "Facebook          4948.892178\n",
      "dtype: float64\n"
     ]
    }
   ],
   "source": [
    "attribution = pd.Series(attribution).sort_values()\n",
    "print(attribution)"
   ]
  },
  {
   "cell_type": "code",
   "execution_count": 15,
   "id": "de7fa3f8",
   "metadata": {},
   "outputs": [],
   "source": [
    "# As we can see, Facebook is assigned the highest number of credits for this dataset. If this data is representative\n",
    "# of the entire user base then Facebook would be deemed the most valuable touchpoint for a given journey."
   ]
  },
  {
   "cell_type": "code",
   "execution_count": 18,
   "id": "59714c9d",
   "metadata": {},
   "outputs": [],
   "source": [
    "# Paid Search is close to being as important a touchpoint in a given user journey ; the drop-off past these two is\n",
    "# significant with Instagram, Online Video and Online Display being much less prominent. "
   ]
  },
  {
   "cell_type": "code",
   "execution_count": 22,
   "id": "ec01f0c7",
   "metadata": {},
   "outputs": [
    {
     "data": {
      "text/plain": [
       "Online Display    12%\n",
       "Online Video      16%\n",
       "Instagram         17%\n",
       "Paid Search       26%\n",
       "Facebook          28%\n",
       "dtype: object"
      ]
     },
     "execution_count": 22,
     "metadata": {},
     "output_type": "execute_result"
    }
   ],
   "source": [
    "(attribution / sum(attribution)).apply('{:.0%}'.format)"
   ]
  },
  {
   "cell_type": "code",
   "execution_count": 20,
   "id": "4881fa99",
   "metadata": {},
   "outputs": [],
   "source": [
    "# If we take a converted customer journey at random, we expect that more than half of the assigned credit to be\n",
    "# attributed to Facebook and Paid Search, alone. The expected credit for Facebook is equal to the combined credit\n",
    "# that we expect for Online Display and Onlinee Video."
   ]
  }
 ],
 "metadata": {
  "kernelspec": {
   "display_name": "Python 3 (ipykernel)",
   "language": "python",
   "name": "python3"
  },
  "language_info": {
   "codemirror_mode": {
    "name": "ipython",
    "version": 3
   },
   "file_extension": ".py",
   "mimetype": "text/x-python",
   "name": "python",
   "nbconvert_exporter": "python",
   "pygments_lexer": "ipython3",
   "version": "3.8.2"
  }
 },
 "nbformat": 4,
 "nbformat_minor": 5
}
